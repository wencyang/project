{
 "cells": [
  {
   "cell_type": "code",
   "execution_count": 1,
   "metadata": {
    "collapsed": true
   },
   "outputs": [],
   "source": [
    "## this is a script to draw 2-dimensional reciprocal space mapping figure using raw x-ray diffraction data\n",
    "## reciprocal space mapping is an important tool to analyze XRD data, it can reveal if the thin film material is \n",
    "## strained or not compared with the substrate signal\n",
    "\n",
    "## raw data from .dat file has format like below:\n",
    "\n",
    "## 2theta omega intensity\n",
    "##  ...   ...   ...\n",
    "##  ...   ...   ...\n",
    "\n",
    "## see the note for the meaning of parameters and the setup  "
   ]
  },
  {
   "cell_type": "code",
   "execution_count": 2,
   "metadata": {
    "collapsed": true
   },
   "outputs": [],
   "source": [
    "import pandas as pd\n",
    "import numpy as np\n",
    "import matplotlib.pyplot as plt\n",
    "##%matplotlib inline\n",
    "from mpl_toolkits.mplot3d import Axes3D\n",
    "from matplotlib import colors, ticker, cm"
   ]
  },
  {
   "cell_type": "code",
   "execution_count": 3,
   "metadata": {
    "collapsed": false
   },
   "outputs": [
    {
     "name": "stdout",
     "output_type": "stream",
     "text": [
      "c:\\users\\yang\\dropbox\n"
     ]
    }
   ],
   "source": [
    "import os\n",
    "cwd = os.getcwd()\n",
    "print cwd"
   ]
  },
  {
   "cell_type": "code",
   "execution_count": 4,
   "metadata": {
    "collapsed": true
   },
   "outputs": [],
   "source": [
    "#data is shared by a shared dropbox folder provided by our collaborator\n",
    "df = pd.read_table(\"./Bi2Ir2O7 XRD Data Shared/RSM_vantec_202peak_20171009_WY85-2Bi227.dat\",sep=\" \",header = None)"
   ]
  },
  {
   "cell_type": "code",
   "execution_count": 5,
   "metadata": {
    "collapsed": true
   },
   "outputs": [],
   "source": [
    "df.rename(columns={list(df)[0]:'2theta'}, inplace=True)\n",
    "df.rename(columns={list(df)[1]:'omega'}, inplace=True)\n",
    "df.rename(columns={list(df)[2]:'intensity'}, inplace=True)"
   ]
  },
  {
   "cell_type": "code",
   "execution_count": 6,
   "metadata": {
    "collapsed": false
   },
   "outputs": [
    {
     "data": {
      "text/html": [
       "<div>\n",
       "<style>\n",
       "    .dataframe thead tr:only-child th {\n",
       "        text-align: right;\n",
       "    }\n",
       "\n",
       "    .dataframe thead th {\n",
       "        text-align: left;\n",
       "    }\n",
       "\n",
       "    .dataframe tbody tr th {\n",
       "        vertical-align: top;\n",
       "    }\n",
       "</style>\n",
       "<table border=\"1\" class=\"dataframe\">\n",
       "  <thead>\n",
       "    <tr style=\"text-align: right;\">\n",
       "      <th></th>\n",
       "      <th>2theta</th>\n",
       "      <th>omega</th>\n",
       "      <th>intensity</th>\n",
       "      <th>theta</th>\n",
       "    </tr>\n",
       "  </thead>\n",
       "  <tbody>\n",
       "    <tr>\n",
       "      <th>0</th>\n",
       "      <td>48.090</td>\n",
       "      <td>-2.0</td>\n",
       "      <td>1.0</td>\n",
       "      <td>24.0450</td>\n",
       "    </tr>\n",
       "    <tr>\n",
       "      <th>1</th>\n",
       "      <td>48.096</td>\n",
       "      <td>-2.0</td>\n",
       "      <td>1.0</td>\n",
       "      <td>24.0480</td>\n",
       "    </tr>\n",
       "    <tr>\n",
       "      <th>2</th>\n",
       "      <td>48.101</td>\n",
       "      <td>-2.0</td>\n",
       "      <td>1.0</td>\n",
       "      <td>24.0505</td>\n",
       "    </tr>\n",
       "    <tr>\n",
       "      <th>3</th>\n",
       "      <td>48.106</td>\n",
       "      <td>-2.0</td>\n",
       "      <td>1.0</td>\n",
       "      <td>24.0530</td>\n",
       "    </tr>\n",
       "    <tr>\n",
       "      <th>4</th>\n",
       "      <td>48.111</td>\n",
       "      <td>-2.0</td>\n",
       "      <td>1.0</td>\n",
       "      <td>24.0555</td>\n",
       "    </tr>\n",
       "  </tbody>\n",
       "</table>\n",
       "</div>"
      ],
      "text/plain": [
       "   2theta  omega  intensity    theta\n",
       "0  48.090   -2.0        1.0  24.0450\n",
       "1  48.096   -2.0        1.0  24.0480\n",
       "2  48.101   -2.0        1.0  24.0505\n",
       "3  48.106   -2.0        1.0  24.0530\n",
       "4  48.111   -2.0        1.0  24.0555"
      ]
     },
     "execution_count": 6,
     "metadata": {},
     "output_type": "execute_result"
    }
   ],
   "source": [
    "wavelength = 1.5406  ## K_alpha wavelength from cooper X-Ray\n",
    "df['theta'] = df['2theta']*1.0/2\n",
    "df.head()\n",
    "#df['omega'] = -df['omega']"
   ]
  },
  {
   "cell_type": "code",
   "execution_count": 7,
   "metadata": {
    "collapsed": true
   },
   "outputs": [],
   "source": [
    "##formula for qx: qx = 1/lambda*(cos(omega) - cos(2theta - omega))\n",
    "##formula for qz: qz = 1/lambda*(sin(omega) + cos(2theta - omega))\n",
    "df['qx_1'] = (1.0/wavelength)*(np.cos(np.radians(df['theta'] + df['omega'])) - np.cos(np.radians(df['theta']) - np.radians(df['omega'])))\n",
    "\n",
    "#df['qx_1'] = (1.0/wavelength)*(np.cos(df['omega'].astype(float)) - np.cos(df['2theta'].astype(float) - df['omega'].astype(float)))\n",
    "\n",
    "df['qz_1'] = (1.0/wavelength)*(np.sin(np.radians(df['theta'] + df['omega'])) + np.sin(np.radians(df['theta']) - np.radians(df['omega'])))\n",
    "\n",
    "#df['qz_1'] = (1.0/wavelength)*(np.sin(df['omega'].astype(float)) + np.sin(df['2theta'].astype(float) - df['omega'].astype(float)))"
   ]
  },
  {
   "cell_type": "code",
   "execution_count": 8,
   "metadata": {
    "collapsed": false
   },
   "outputs": [
    {
     "data": {
      "text/html": [
       "<div>\n",
       "<style>\n",
       "    .dataframe thead tr:only-child th {\n",
       "        text-align: right;\n",
       "    }\n",
       "\n",
       "    .dataframe thead th {\n",
       "        text-align: left;\n",
       "    }\n",
       "\n",
       "    .dataframe tbody tr th {\n",
       "        vertical-align: top;\n",
       "    }\n",
       "</style>\n",
       "<table border=\"1\" class=\"dataframe\">\n",
       "  <thead>\n",
       "    <tr style=\"text-align: right;\">\n",
       "      <th></th>\n",
       "      <th>2theta</th>\n",
       "      <th>omega</th>\n",
       "      <th>intensity</th>\n",
       "      <th>theta</th>\n",
       "      <th>qx_1</th>\n",
       "      <th>qz_1</th>\n",
       "      <th>qx_new</th>\n",
       "      <th>qz_new</th>\n",
       "      <th>qx_new_nm</th>\n",
       "      <th>qz_new_nm</th>\n",
       "      <th>intensity_log</th>\n",
       "    </tr>\n",
       "  </thead>\n",
       "  <tbody>\n",
       "    <tr>\n",
       "      <th>0</th>\n",
       "      <td>48.090</td>\n",
       "      <td>-2.0</td>\n",
       "      <td>1.0</td>\n",
       "      <td>24.0450</td>\n",
       "      <td>0.018460</td>\n",
       "      <td>0.528633</td>\n",
       "      <td>0.320279</td>\n",
       "      <td>0.420969</td>\n",
       "      <td>3.202790</td>\n",
       "      <td>4.209688</td>\n",
       "      <td>0.0</td>\n",
       "    </tr>\n",
       "    <tr>\n",
       "      <th>1</th>\n",
       "      <td>48.096</td>\n",
       "      <td>-2.0</td>\n",
       "      <td>1.0</td>\n",
       "      <td>24.0480</td>\n",
       "      <td>0.018462</td>\n",
       "      <td>0.528695</td>\n",
       "      <td>0.320317</td>\n",
       "      <td>0.421018</td>\n",
       "      <td>3.203166</td>\n",
       "      <td>4.210182</td>\n",
       "      <td>0.0</td>\n",
       "    </tr>\n",
       "    <tr>\n",
       "      <th>2</th>\n",
       "      <td>48.101</td>\n",
       "      <td>-2.0</td>\n",
       "      <td>1.0</td>\n",
       "      <td>24.0505</td>\n",
       "      <td>0.018464</td>\n",
       "      <td>0.528746</td>\n",
       "      <td>0.320348</td>\n",
       "      <td>0.421059</td>\n",
       "      <td>3.203479</td>\n",
       "      <td>4.210594</td>\n",
       "      <td>0.0</td>\n",
       "    </tr>\n",
       "    <tr>\n",
       "      <th>3</th>\n",
       "      <td>48.106</td>\n",
       "      <td>-2.0</td>\n",
       "      <td>1.0</td>\n",
       "      <td>24.0530</td>\n",
       "      <td>0.018466</td>\n",
       "      <td>0.528798</td>\n",
       "      <td>0.320379</td>\n",
       "      <td>0.421101</td>\n",
       "      <td>3.203792</td>\n",
       "      <td>4.211005</td>\n",
       "      <td>0.0</td>\n",
       "    </tr>\n",
       "    <tr>\n",
       "      <th>4</th>\n",
       "      <td>48.111</td>\n",
       "      <td>-2.0</td>\n",
       "      <td>1.0</td>\n",
       "      <td>24.0555</td>\n",
       "      <td>0.018468</td>\n",
       "      <td>0.528850</td>\n",
       "      <td>0.320411</td>\n",
       "      <td>0.421142</td>\n",
       "      <td>3.204105</td>\n",
       "      <td>4.211417</td>\n",
       "      <td>0.0</td>\n",
       "    </tr>\n",
       "  </tbody>\n",
       "</table>\n",
       "</div>"
      ],
      "text/plain": [
       "   2theta  omega  intensity    theta      qx_1      qz_1    qx_new    qz_new  \\\n",
       "0  48.090   -2.0        1.0  24.0450  0.018460  0.528633  0.320279  0.420969   \n",
       "1  48.096   -2.0        1.0  24.0480  0.018462  0.528695  0.320317  0.421018   \n",
       "2  48.101   -2.0        1.0  24.0505  0.018464  0.528746  0.320348  0.421059   \n",
       "3  48.106   -2.0        1.0  24.0530  0.018466  0.528798  0.320379  0.421101   \n",
       "4  48.111   -2.0        1.0  24.0555  0.018468  0.528850  0.320411  0.421142   \n",
       "\n",
       "   qx_new_nm  qz_new_nm  intensity_log  \n",
       "0   3.202790   4.209688            0.0  \n",
       "1   3.203166   4.210182            0.0  \n",
       "2   3.203479   4.210594            0.0  \n",
       "3   3.203792   4.211005            0.0  \n",
       "4   3.204105   4.211417            0.0  "
      ]
     },
     "execution_count": 8,
     "metadata": {},
     "output_type": "execute_result"
    }
   ],
   "source": [
    "## do the coordinate rotation transformation, only after tranformation we can see the Qz and Qx directly\n",
    "## rotation matrix is ([cos(chi), sin(chi)],[-sin(chi), cos(chi)])\n",
    "\n",
    "a = np.cos(np.radians(35.2643897)) # a=cos(chi)\n",
    "b = np.sin(np.radians(35.2643897)) # b = sin(chi)\n",
    "df['qx_new'] = df['qx_1']*a+df['qz_1']*b\n",
    "df['qz_new'] = -df['qx_1']*b + df['qz_1']*a\n",
    "##convert unit from A to nm\n",
    "df['qx_new_nm'] = df['qx_new']*10\n",
    "df['qz_new_nm'] = df['qz_new']*10\n",
    "##use log(intensity) instead of intensity to have better contrast\n",
    "df['intensity_log'] = np.log(df['intensity'])\n",
    "df.head()\n",
    "#df.to_csv(\"unannealed.txt\",sep = '\\t')"
   ]
  },
  {
   "cell_type": "code",
   "execution_count": 9,
   "metadata": {
    "collapsed": false
   },
   "outputs": [],
   "source": [
    "## have a quick look of the distribution of intensity\n",
    "##df.plot(x = 'qx_new_nm',y = 'intensity_log')\n",
    "##df.plot(x = 'qz_new_nm',y = 'intensity_log')"
   ]
  },
  {
   "cell_type": "code",
   "execution_count": 10,
   "metadata": {
    "collapsed": true
   },
   "outputs": [],
   "source": [
    "## intensity is mainly around 3.1 (nm^-1) to 3.2(nm^-1) for qx and 4.4(nm^-1) to 4.5(nm^-1) for qz\n",
    "## now let's plot the 2D mapping"
   ]
  },
  {
   "cell_type": "code",
   "execution_count": 12,
   "metadata": {
    "collapsed": false
   },
   "outputs": [
    {
     "name": "stderr",
     "output_type": "stream",
     "text": [
      "C:\\Users\\Yang\\AppData\\Local\\Enthought\\Canopy\\User\\lib\\site-packages\\ipykernel\\__main__.py:50: MatplotlibDeprecationWarning: The set_axis_bgcolor function was deprecated in version 2.0. Use set_facecolor instead.\n"
     ]
    }
   ],
   "source": [
    "x = df['qx_new_nm'].astype(float)\n",
    "y = df['qz_new_nm'].astype(float)\n",
    "z = df['intensity']*1.0/np.max(df['intensity']).astype(float)##normalize the intensity\n",
    "z_log = df['intensity_log']*1.0/np.max(df['intensity_log'])##normalize the intensity\n",
    "\n",
    "####\n",
    "from matplotlib import rcParams as rc\n",
    "import matplotlib.font_manager as fm\n",
    "#import seaborn as sns\n",
    "\n",
    "rc['savefig.bbox']='standard'\n",
    "rc['axes.linewidth']=1\n",
    "rc['axes.grid']=False\n",
    "rc['grid.linewidth']=0\n",
    "rc[\"savefig.facecolor\"]='white'\n",
    "rc['savefig.edgecolor']='black'\n",
    "rc['figure.edgecolor']='black'    \n",
    "rc[\"figure.facecolor\"]='white'\n",
    "rc[\"axes.facecolor\"]='white'\n",
    "rc['axes.edgecolor']='black'\n",
    "rc['xtick.major.size'] = 5\n",
    "rc['xtick.major.width'] = 1\n",
    "rc['xtick.direction'] = 'in'\n",
    "rc['ytick.major.size'] = 5\n",
    "rc['ytick.major.width'] = 1\n",
    "rc['ytick.direction'] = 'in'\n",
    "rc['xtick.labelsize'] = 20\n",
    "rc['ytick.labelsize'] = 20\n",
    "#fm._rebuild()\n",
    "#rc.update({'font.size': 5})\n",
    "#rc['figure.autolayout']=False\n",
    "rc[\"font.family\"] = \"Arial\"\n",
    "rc[\"image.aspect\"] = 2.0\n",
    "plt.locator_params(axis='y', nbins=3)\n",
    "plt.locator_params(axis='x', nbins=3)\n",
    "##########################\n",
    "ax=plt.axes()\n",
    "ax.set_xlabel('q$_x$ (1/nm)', fontsize=15)\n",
    "ax.set_ylabel('q$_z$ (1/nm)', fontsize=15)\n",
    "\n",
    "plt.xlim(2.90,3.48)\n",
    "plt.ylim(4.2,4.7)\n",
    "plt.xticks(size = 13)\n",
    "plt.yticks(size = 13)\n",
    "#plt.text(3.22, 4.5, 'YSZ(202)',\n",
    "#         fontsize=25)\n",
    "#plt.text(3.18, 4.35, 'Film(404)',\n",
    "#         fontsize=25)\n",
    "##########################\n",
    "ax.set_axis_bgcolor(\"white\")\n",
    "#ax.set_facecolor('white')\n",
    "\n",
    "#plt.scatter(x, y, z)\n",
    "cm = plt.cm.get_cmap('jet')\n",
    "cm.set_under(color=\"w\")\n",
    "sc = plt.scatter(x, y, c=z_log, vmin=0.15, vmax=0.4, cmap=cm,linewidths = 0)\n",
    "#sc_linear = plt.scatter(x, y, c=z, vmin=0.15, vmax=0.4, cmap=cm,linewidths = 0)\n",
    "\n",
    "plt.colorbar(sc)\n",
    "plt.axes().set_aspect(0.9)\n",
    "###################\n",
    "#fig = plt.figure();\n",
    "#ax = Axes3D(fig);\n",
    "#surf = ax.plot_trisurf(x, y, z, cmap=cm.jet, linewidth=0, vmin=0.0049, vmax=0.005)\n",
    "#fig.colorbar(surf, shrink=0.5, aspect=5)\n",
    "################################\n",
    "plt.savefig('unannealed_new.jpg',dpi=300)\n",
    "\n",
    "plt.axis('on')\n",
    "plt.show()"
   ]
  },
  {
   "cell_type": "code",
   "execution_count": null,
   "metadata": {
    "collapsed": true
   },
   "outputs": [],
   "source": [
    "## the red point is the signal from substrate since it's thick and the thin film is very thin\n",
    "## the circle region below is from thin film\n",
    "## our film is not on the relaxed line so it's compressed on the in-plane direction (qx direction) and expaned on  \n",
    "## out-plane direction (qz direction)"
   ]
  },
  {
   "cell_type": "code",
   "execution_count": null,
   "metadata": {
    "collapsed": true
   },
   "outputs": [],
   "source": []
  }
 ],
 "metadata": {
  "kernelspec": {
   "display_name": "Python 2",
   "language": "python",
   "name": "python2"
  },
  "language_info": {
   "codemirror_mode": {
    "name": "ipython",
    "version": 2
   },
   "file_extension": ".py",
   "mimetype": "text/x-python",
   "name": "python",
   "nbconvert_exporter": "python",
   "pygments_lexer": "ipython2",
   "version": "2.7.11"
  }
 },
 "nbformat": 4,
 "nbformat_minor": 2
}
