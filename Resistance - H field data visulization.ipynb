{
 "cells": [
  {
   "cell_type": "code",
   "execution_count": 34,
   "metadata": {
    "collapsed": true
   },
   "outputs": [],
   "source": [
    "import numpy as np\n",
    "import pandas as pd\n",
    "import matplotlib.pyplot as plt\n",
    "%matplotlib inline  "
   ]
  },
  {
   "cell_type": "code",
   "execution_count": 35,
   "metadata": {
    "collapsed": true
   },
   "outputs": [],
   "source": [
    "#df1 = pd.read_table(\"./CWY05_-6.5T_6.5T.txt\",sep=\"\\t\",header = None)\n",
    "#df2 = pd.read_table(\"./CWY05_6.5T_-6.5T.txt\",sep=\"\\t\",header = None)\n",
    "\n",
    "#swipe down\n",
    "df3 = pd.read_table(\"./Squid/6.5T.txt\",sep=\"\\t\",header = None)\n",
    "#swipe up\n",
    "df4 = pd.read_table(\"./Squid/0T.txt\",sep=\"\\t\",header = None)\n"
   ]
  },
  {
   "cell_type": "code",
   "execution_count": 36,
   "metadata": {
    "collapsed": true
   },
   "outputs": [],
   "source": [
    "#df1.rename(columns={list(df1)[0]:'B'}, inplace=True)\n",
    "#df1.rename(columns={list(df1)[1]:'Rxx'}, inplace=True)\n",
    "\n",
    "\n",
    "#df2.rename(columns={list(df2)[0]:'B'}, inplace=True)\n",
    "#df2.rename(columns={list(df2)[1]:'Rxx'}, inplace=True)\n",
    "\n",
    "df3.rename(columns={list(df3)[0]:'T'}, inplace=True)\n",
    "df3.rename(columns={list(df3)[1]:'Rxx'}, inplace=True)\n",
    "\n",
    "\n",
    "df4.rename(columns={list(df4)[0]:'T'}, inplace=True)\n",
    "df4.rename(columns={list(df4)[1]:'Rxx'}, inplace=True)\n"
   ]
  },
  {
   "cell_type": "code",
   "execution_count": 37,
   "metadata": {
    "collapsed": false
   },
   "outputs": [
    {
     "data": {
      "text/html": [
       "<div>\n",
       "<style>\n",
       "    .dataframe thead tr:only-child th {\n",
       "        text-align: right;\n",
       "    }\n",
       "\n",
       "    .dataframe thead th {\n",
       "        text-align: left;\n",
       "    }\n",
       "\n",
       "    .dataframe tbody tr th {\n",
       "        vertical-align: top;\n",
       "    }\n",
       "</style>\n",
       "<table border=\"1\" class=\"dataframe\">\n",
       "  <thead>\n",
       "    <tr style=\"text-align: right;\">\n",
       "      <th></th>\n",
       "      <th>T</th>\n",
       "      <th>Rxx</th>\n",
       "    </tr>\n",
       "  </thead>\n",
       "  <tbody>\n",
       "    <tr>\n",
       "      <th>0</th>\n",
       "      <td>301.408</td>\n",
       "      <td>20.3066</td>\n",
       "    </tr>\n",
       "    <tr>\n",
       "      <th>1</th>\n",
       "      <td>301.253</td>\n",
       "      <td>20.2537</td>\n",
       "    </tr>\n",
       "    <tr>\n",
       "      <th>2</th>\n",
       "      <td>300.871</td>\n",
       "      <td>20.1978</td>\n",
       "    </tr>\n",
       "    <tr>\n",
       "      <th>3</th>\n",
       "      <td>300.871</td>\n",
       "      <td>20.1949</td>\n",
       "    </tr>\n",
       "    <tr>\n",
       "      <th>4</th>\n",
       "      <td>300.725</td>\n",
       "      <td>20.1699</td>\n",
       "    </tr>\n",
       "  </tbody>\n",
       "</table>\n",
       "</div>"
      ],
      "text/plain": [
       "         T      Rxx\n",
       "0  301.408  20.3066\n",
       "1  301.253  20.2537\n",
       "2  300.871  20.1978\n",
       "3  300.871  20.1949\n",
       "4  300.725  20.1699"
      ]
     },
     "execution_count": 37,
     "metadata": {},
     "output_type": "execute_result"
    }
   ],
   "source": [
    "df3.head()"
   ]
  },
  {
   "cell_type": "code",
   "execution_count": 5,
   "metadata": {
    "collapsed": false
   },
   "outputs": [],
   "source": [
    "##df3.plot()\n",
    "##df3.plot(y = 'Rxx',label='Rxx vs time')\n",
    "##df3.plot(x = 'B',y = 'Rxx',label='Rxx vs B')\n",
    "### the step size of magnetic field changes\n",
    "###raw data is noisy since for each magnetic field, a lot of data was obtained before it's stable\n",
    "###so we need to average the last 5 data point"
   ]
  },
  {
   "cell_type": "code",
   "execution_count": 38,
   "metadata": {
    "collapsed": false
   },
   "outputs": [
    {
     "name": "stderr",
     "output_type": "stream",
     "text": [
      "C:\\Users\\Yang\\AppData\\Local\\Enthought\\Canopy\\User\\lib\\site-packages\\pandas\\core\\series.py:1295: RuntimeWarning: invalid value encountered in rint\n",
      "  result = _values_from_object(self).round(decimals)\n"
     ]
    }
   ],
   "source": [
    "df3 = df3.round({'T':0})\n",
    "df4 = df4.round({'T':0})"
   ]
  },
  {
   "cell_type": "code",
   "execution_count": 39,
   "metadata": {
    "collapsed": false
   },
   "outputs": [
    {
     "data": {
      "text/html": [
       "<div>\n",
       "<style>\n",
       "    .dataframe thead tr:only-child th {\n",
       "        text-align: right;\n",
       "    }\n",
       "\n",
       "    .dataframe thead th {\n",
       "        text-align: left;\n",
       "    }\n",
       "\n",
       "    .dataframe tbody tr th {\n",
       "        vertical-align: top;\n",
       "    }\n",
       "</style>\n",
       "<table border=\"1\" class=\"dataframe\">\n",
       "  <thead>\n",
       "    <tr style=\"text-align: right;\">\n",
       "      <th></th>\n",
       "      <th>T</th>\n",
       "      <th>Rxx</th>\n",
       "    </tr>\n",
       "  </thead>\n",
       "  <tbody>\n",
       "    <tr>\n",
       "      <th>0</th>\n",
       "      <td>301.0</td>\n",
       "      <td>20.3066</td>\n",
       "    </tr>\n",
       "    <tr>\n",
       "      <th>1</th>\n",
       "      <td>301.0</td>\n",
       "      <td>20.2537</td>\n",
       "    </tr>\n",
       "    <tr>\n",
       "      <th>2</th>\n",
       "      <td>301.0</td>\n",
       "      <td>20.1978</td>\n",
       "    </tr>\n",
       "    <tr>\n",
       "      <th>3</th>\n",
       "      <td>301.0</td>\n",
       "      <td>20.1949</td>\n",
       "    </tr>\n",
       "    <tr>\n",
       "      <th>4</th>\n",
       "      <td>301.0</td>\n",
       "      <td>20.1699</td>\n",
       "    </tr>\n",
       "    <tr>\n",
       "      <th>5</th>\n",
       "      <td>301.0</td>\n",
       "      <td>20.1287</td>\n",
       "    </tr>\n",
       "    <tr>\n",
       "      <th>6</th>\n",
       "      <td>300.0</td>\n",
       "      <td>20.0214</td>\n",
       "    </tr>\n",
       "    <tr>\n",
       "      <th>7</th>\n",
       "      <td>300.0</td>\n",
       "      <td>19.9244</td>\n",
       "    </tr>\n",
       "    <tr>\n",
       "      <th>8</th>\n",
       "      <td>300.0</td>\n",
       "      <td>19.8965</td>\n",
       "    </tr>\n",
       "    <tr>\n",
       "      <th>9</th>\n",
       "      <td>300.0</td>\n",
       "      <td>19.9067</td>\n",
       "    </tr>\n",
       "    <tr>\n",
       "      <th>10</th>\n",
       "      <td>300.0</td>\n",
       "      <td>19.9038</td>\n",
       "    </tr>\n",
       "    <tr>\n",
       "      <th>11</th>\n",
       "      <td>300.0</td>\n",
       "      <td>19.8935</td>\n",
       "    </tr>\n",
       "    <tr>\n",
       "      <th>12</th>\n",
       "      <td>300.0</td>\n",
       "      <td>19.8656</td>\n",
       "    </tr>\n",
       "    <tr>\n",
       "      <th>13</th>\n",
       "      <td>300.0</td>\n",
       "      <td>19.7803</td>\n",
       "    </tr>\n",
       "    <tr>\n",
       "      <th>14</th>\n",
       "      <td>300.0</td>\n",
       "      <td>19.7201</td>\n",
       "    </tr>\n",
       "    <tr>\n",
       "      <th>15</th>\n",
       "      <td>300.0</td>\n",
       "      <td>19.7392</td>\n",
       "    </tr>\n",
       "    <tr>\n",
       "      <th>16</th>\n",
       "      <td>300.0</td>\n",
       "      <td>19.7891</td>\n",
       "    </tr>\n",
       "    <tr>\n",
       "      <th>17</th>\n",
       "      <td>300.0</td>\n",
       "      <td>19.8053</td>\n",
       "    </tr>\n",
       "    <tr>\n",
       "      <th>18</th>\n",
       "      <td>300.0</td>\n",
       "      <td>19.8215</td>\n",
       "    </tr>\n",
       "    <tr>\n",
       "      <th>19</th>\n",
       "      <td>300.0</td>\n",
       "      <td>19.8215</td>\n",
       "    </tr>\n",
       "    <tr>\n",
       "      <th>20</th>\n",
       "      <td>300.0</td>\n",
       "      <td>19.7127</td>\n",
       "    </tr>\n",
       "    <tr>\n",
       "      <th>21</th>\n",
       "      <td>300.0</td>\n",
       "      <td>19.6892</td>\n",
       "    </tr>\n",
       "    <tr>\n",
       "      <th>22</th>\n",
       "      <td>300.0</td>\n",
       "      <td>19.7186</td>\n",
       "    </tr>\n",
       "    <tr>\n",
       "      <th>23</th>\n",
       "      <td>300.0</td>\n",
       "      <td>19.6774</td>\n",
       "    </tr>\n",
       "    <tr>\n",
       "      <th>24</th>\n",
       "      <td>300.0</td>\n",
       "      <td>19.6760</td>\n",
       "    </tr>\n",
       "    <tr>\n",
       "      <th>25</th>\n",
       "      <td>300.0</td>\n",
       "      <td>19.6113</td>\n",
       "    </tr>\n",
       "    <tr>\n",
       "      <th>26</th>\n",
       "      <td>300.0</td>\n",
       "      <td>19.5863</td>\n",
       "    </tr>\n",
       "    <tr>\n",
       "      <th>27</th>\n",
       "      <td>300.0</td>\n",
       "      <td>19.5495</td>\n",
       "    </tr>\n",
       "    <tr>\n",
       "      <th>28</th>\n",
       "      <td>300.0</td>\n",
       "      <td>19.5172</td>\n",
       "    </tr>\n",
       "    <tr>\n",
       "      <th>29</th>\n",
       "      <td>300.0</td>\n",
       "      <td>19.4995</td>\n",
       "    </tr>\n",
       "    <tr>\n",
       "      <th>...</th>\n",
       "      <td>...</td>\n",
       "      <td>...</td>\n",
       "    </tr>\n",
       "    <tr>\n",
       "      <th>3619</th>\n",
       "      <td>NaN</td>\n",
       "      <td>NaN</td>\n",
       "    </tr>\n",
       "    <tr>\n",
       "      <th>3620</th>\n",
       "      <td>NaN</td>\n",
       "      <td>NaN</td>\n",
       "    </tr>\n",
       "    <tr>\n",
       "      <th>3621</th>\n",
       "      <td>NaN</td>\n",
       "      <td>NaN</td>\n",
       "    </tr>\n",
       "    <tr>\n",
       "      <th>3622</th>\n",
       "      <td>NaN</td>\n",
       "      <td>NaN</td>\n",
       "    </tr>\n",
       "    <tr>\n",
       "      <th>3623</th>\n",
       "      <td>NaN</td>\n",
       "      <td>NaN</td>\n",
       "    </tr>\n",
       "    <tr>\n",
       "      <th>3624</th>\n",
       "      <td>NaN</td>\n",
       "      <td>NaN</td>\n",
       "    </tr>\n",
       "    <tr>\n",
       "      <th>3625</th>\n",
       "      <td>NaN</td>\n",
       "      <td>NaN</td>\n",
       "    </tr>\n",
       "    <tr>\n",
       "      <th>3626</th>\n",
       "      <td>NaN</td>\n",
       "      <td>NaN</td>\n",
       "    </tr>\n",
       "    <tr>\n",
       "      <th>3627</th>\n",
       "      <td>NaN</td>\n",
       "      <td>NaN</td>\n",
       "    </tr>\n",
       "    <tr>\n",
       "      <th>3628</th>\n",
       "      <td>NaN</td>\n",
       "      <td>NaN</td>\n",
       "    </tr>\n",
       "    <tr>\n",
       "      <th>3629</th>\n",
       "      <td>NaN</td>\n",
       "      <td>NaN</td>\n",
       "    </tr>\n",
       "    <tr>\n",
       "      <th>3630</th>\n",
       "      <td>NaN</td>\n",
       "      <td>NaN</td>\n",
       "    </tr>\n",
       "    <tr>\n",
       "      <th>3631</th>\n",
       "      <td>NaN</td>\n",
       "      <td>NaN</td>\n",
       "    </tr>\n",
       "    <tr>\n",
       "      <th>3632</th>\n",
       "      <td>NaN</td>\n",
       "      <td>NaN</td>\n",
       "    </tr>\n",
       "    <tr>\n",
       "      <th>3633</th>\n",
       "      <td>NaN</td>\n",
       "      <td>NaN</td>\n",
       "    </tr>\n",
       "    <tr>\n",
       "      <th>3634</th>\n",
       "      <td>NaN</td>\n",
       "      <td>NaN</td>\n",
       "    </tr>\n",
       "    <tr>\n",
       "      <th>3635</th>\n",
       "      <td>NaN</td>\n",
       "      <td>NaN</td>\n",
       "    </tr>\n",
       "    <tr>\n",
       "      <th>3636</th>\n",
       "      <td>NaN</td>\n",
       "      <td>NaN</td>\n",
       "    </tr>\n",
       "    <tr>\n",
       "      <th>3637</th>\n",
       "      <td>NaN</td>\n",
       "      <td>NaN</td>\n",
       "    </tr>\n",
       "    <tr>\n",
       "      <th>3638</th>\n",
       "      <td>NaN</td>\n",
       "      <td>NaN</td>\n",
       "    </tr>\n",
       "    <tr>\n",
       "      <th>3639</th>\n",
       "      <td>NaN</td>\n",
       "      <td>NaN</td>\n",
       "    </tr>\n",
       "    <tr>\n",
       "      <th>3640</th>\n",
       "      <td>NaN</td>\n",
       "      <td>NaN</td>\n",
       "    </tr>\n",
       "    <tr>\n",
       "      <th>3641</th>\n",
       "      <td>NaN</td>\n",
       "      <td>NaN</td>\n",
       "    </tr>\n",
       "    <tr>\n",
       "      <th>3642</th>\n",
       "      <td>NaN</td>\n",
       "      <td>NaN</td>\n",
       "    </tr>\n",
       "    <tr>\n",
       "      <th>3643</th>\n",
       "      <td>NaN</td>\n",
       "      <td>NaN</td>\n",
       "    </tr>\n",
       "    <tr>\n",
       "      <th>3644</th>\n",
       "      <td>NaN</td>\n",
       "      <td>NaN</td>\n",
       "    </tr>\n",
       "    <tr>\n",
       "      <th>3645</th>\n",
       "      <td>NaN</td>\n",
       "      <td>NaN</td>\n",
       "    </tr>\n",
       "    <tr>\n",
       "      <th>3646</th>\n",
       "      <td>NaN</td>\n",
       "      <td>NaN</td>\n",
       "    </tr>\n",
       "    <tr>\n",
       "      <th>3647</th>\n",
       "      <td>NaN</td>\n",
       "      <td>NaN</td>\n",
       "    </tr>\n",
       "    <tr>\n",
       "      <th>3648</th>\n",
       "      <td>NaN</td>\n",
       "      <td>NaN</td>\n",
       "    </tr>\n",
       "  </tbody>\n",
       "</table>\n",
       "<p>3649 rows × 2 columns</p>\n",
       "</div>"
      ],
      "text/plain": [
       "          T      Rxx\n",
       "0     301.0  20.3066\n",
       "1     301.0  20.2537\n",
       "2     301.0  20.1978\n",
       "3     301.0  20.1949\n",
       "4     301.0  20.1699\n",
       "5     301.0  20.1287\n",
       "6     300.0  20.0214\n",
       "7     300.0  19.9244\n",
       "8     300.0  19.8965\n",
       "9     300.0  19.9067\n",
       "10    300.0  19.9038\n",
       "11    300.0  19.8935\n",
       "12    300.0  19.8656\n",
       "13    300.0  19.7803\n",
       "14    300.0  19.7201\n",
       "15    300.0  19.7392\n",
       "16    300.0  19.7891\n",
       "17    300.0  19.8053\n",
       "18    300.0  19.8215\n",
       "19    300.0  19.8215\n",
       "20    300.0  19.7127\n",
       "21    300.0  19.6892\n",
       "22    300.0  19.7186\n",
       "23    300.0  19.6774\n",
       "24    300.0  19.6760\n",
       "25    300.0  19.6113\n",
       "26    300.0  19.5863\n",
       "27    300.0  19.5495\n",
       "28    300.0  19.5172\n",
       "29    300.0  19.4995\n",
       "...     ...      ...\n",
       "3619    NaN      NaN\n",
       "3620    NaN      NaN\n",
       "3621    NaN      NaN\n",
       "3622    NaN      NaN\n",
       "3623    NaN      NaN\n",
       "3624    NaN      NaN\n",
       "3625    NaN      NaN\n",
       "3626    NaN      NaN\n",
       "3627    NaN      NaN\n",
       "3628    NaN      NaN\n",
       "3629    NaN      NaN\n",
       "3630    NaN      NaN\n",
       "3631    NaN      NaN\n",
       "3632    NaN      NaN\n",
       "3633    NaN      NaN\n",
       "3634    NaN      NaN\n",
       "3635    NaN      NaN\n",
       "3636    NaN      NaN\n",
       "3637    NaN      NaN\n",
       "3638    NaN      NaN\n",
       "3639    NaN      NaN\n",
       "3640    NaN      NaN\n",
       "3641    NaN      NaN\n",
       "3642    NaN      NaN\n",
       "3643    NaN      NaN\n",
       "3644    NaN      NaN\n",
       "3645    NaN      NaN\n",
       "3646    NaN      NaN\n",
       "3647    NaN      NaN\n",
       "3648    NaN      NaN\n",
       "\n",
       "[3649 rows x 2 columns]"
      ]
     },
     "execution_count": 39,
     "metadata": {},
     "output_type": "execute_result"
    }
   ],
   "source": [
    "df3"
   ]
  },
  {
   "cell_type": "code",
   "execution_count": 40,
   "metadata": {
    "collapsed": true
   },
   "outputs": [],
   "source": [
    "\n",
    "#df1=df1.groupby(\"B\")[\"Rxx\"].apply(lambda x: x.iloc[-5:].mean())\n",
    "\n",
    "#df2=df2.groupby(\"B\")[\"Rxx\"].apply(lambda x: x.iloc[-5:].mean())\n",
    "\n",
    "df3=df3.groupby(\"T\")[\"Rxx\"].mean()\n",
    "\n",
    "df4=df4.groupby(\"T\")[\"Rxx\"].mean()\n"
   ]
  },
  {
   "cell_type": "code",
   "execution_count": 41,
   "metadata": {
    "collapsed": false
   },
   "outputs": [
    {
     "data": {
      "text/plain": [
       "T\n",
       "80.0      81.685627\n",
       "81.0      84.776660\n",
       "82.0      87.016340\n",
       "83.0      89.079050\n",
       "84.0      90.609800\n",
       "85.0      92.280420\n",
       "86.0      94.367133\n",
       "87.0      95.818250\n",
       "88.0      97.052940\n",
       "89.0      98.512750\n",
       "90.0      99.913400\n",
       "91.0     101.444000\n",
       "92.0     102.671750\n",
       "93.0     104.115400\n",
       "94.0     108.107667\n",
       "95.0     116.629000\n",
       "96.0     125.088750\n",
       "97.0     126.883600\n",
       "98.0     128.249200\n",
       "99.0     128.799500\n",
       "100.0    129.935400\n",
       "101.0    130.617000\n",
       "102.0    131.794800\n",
       "103.0    132.933500\n",
       "104.0    133.875400\n",
       "105.0    134.410750\n",
       "106.0    134.957200\n",
       "107.0    136.824800\n",
       "108.0    137.152667\n",
       "109.0    138.139750\n",
       "            ...    \n",
       "272.0     26.050950\n",
       "273.0     25.702700\n",
       "274.0     25.400875\n",
       "275.0     25.002100\n",
       "276.0     24.769125\n",
       "277.0     24.525180\n",
       "278.0     24.113633\n",
       "279.0     23.708525\n",
       "280.0     23.611740\n",
       "281.0     23.400400\n",
       "282.0     23.170383\n",
       "283.0     22.783875\n",
       "284.0     22.608600\n",
       "285.0     22.423960\n",
       "286.0     22.124080\n",
       "287.0     21.812420\n",
       "288.0     21.543225\n",
       "289.0     21.305329\n",
       "290.0     21.090567\n",
       "291.0     20.935267\n",
       "292.0     20.719940\n",
       "293.0     20.615517\n",
       "294.0     20.425150\n",
       "295.0     20.219843\n",
       "296.0     20.009229\n",
       "297.0     19.738860\n",
       "298.0     19.674717\n",
       "299.0     19.559240\n",
       "300.0     19.755275\n",
       "301.0     20.208600\n",
       "Name: Rxx, Length: 222, dtype: float64"
      ]
     },
     "execution_count": 41,
     "metadata": {},
     "output_type": "execute_result"
    }
   ],
   "source": [
    "df3"
   ]
  },
  {
   "cell_type": "code",
   "execution_count": 42,
   "metadata": {
    "collapsed": false
   },
   "outputs": [
    {
     "data": {
      "text/plain": [
       "T\n",
       "80.0      82.627843\n",
       "81.0      85.056580\n",
       "82.0      87.057540\n",
       "83.0      88.914400\n",
       "84.0      90.583460\n",
       "85.0      92.410100\n",
       "86.0      94.022080\n",
       "87.0      95.678275\n",
       "88.0      97.107900\n",
       "89.0      98.210700\n",
       "90.0      99.485633\n",
       "91.0     100.796333\n",
       "92.0     101.943600\n",
       "93.0     103.420000\n",
       "94.0     108.767250\n",
       "95.0     114.556600\n",
       "96.0     124.816500\n",
       "97.0     126.261600\n",
       "98.0     127.469000\n",
       "99.0     128.210600\n",
       "100.0    128.706000\n",
       "101.0    130.228600\n",
       "102.0    131.269000\n",
       "103.0    132.192400\n",
       "104.0    133.078000\n",
       "105.0    134.025200\n",
       "106.0    134.608000\n",
       "107.0    135.901200\n",
       "108.0    136.373333\n",
       "109.0    136.965400\n",
       "            ...    \n",
       "271.0     26.060167\n",
       "272.0     25.698543\n",
       "273.0     25.253633\n",
       "274.0     24.915040\n",
       "275.0     24.726525\n",
       "276.0     24.267000\n",
       "277.0     23.894475\n",
       "278.0     23.401820\n",
       "279.0     23.147000\n",
       "280.0     23.019620\n",
       "281.0     22.804100\n",
       "282.0     22.672100\n",
       "283.0     22.177900\n",
       "284.0     21.985300\n",
       "285.0     21.625480\n",
       "286.0     21.406420\n",
       "287.0     21.067760\n",
       "288.0     20.799340\n",
       "289.0     20.471950\n",
       "290.0     20.405360\n",
       "291.0     20.218367\n",
       "292.0     20.029040\n",
       "293.0     19.969575\n",
       "294.0     19.787680\n",
       "295.0     19.799450\n",
       "296.0     19.499800\n",
       "297.0     19.320614\n",
       "298.0     19.254389\n",
       "299.0     18.988737\n",
       "300.0     18.841525\n",
       "Name: Rxx, Length: 221, dtype: float64"
      ]
     },
     "execution_count": 42,
     "metadata": {},
     "output_type": "execute_result"
    }
   ],
   "source": [
    "df4"
   ]
  },
  {
   "cell_type": "code",
   "execution_count": 44,
   "metadata": {
    "collapsed": false
   },
   "outputs": [],
   "source": [
    "df5 = (df3 - df4)/df4"
   ]
  },
  {
   "cell_type": "code",
   "execution_count": 45,
   "metadata": {
    "collapsed": true
   },
   "outputs": [],
   "source": [
    "df5.to_csv('mr_cwy02.txt')"
   ]
  },
  {
   "cell_type": "code",
   "execution_count": 10,
   "metadata": {
    "collapsed": false
   },
   "outputs": [
    {
     "data": {
      "image/png": "[encoded data removed]",
      "text/plain": [
       "<matplotlib.figure.Figure at 0x10cd9f450>"
      ]
     },
     "metadata": {},
     "output_type": "display_data"
    }
   ],
   "source": [
    "#plt.ylim(2700,2850)\n",
    "plt.xlim(-65000,65000)\n",
    "#fig, ax = plt.subplots()\n",
    "df3.plot(label='up', legend=True)\n",
    "df4.plot(label='dn', legend=True)\n",
    "#ax.legend()\n",
    "plt.title('Avearage Rxx - H')\n",
    "plt.show()"
   ]
  },
  {
   "cell_type": "code",
   "execution_count": null,
   "metadata": {
    "collapsed": true
   },
   "outputs": [],
   "source": [
    "## we can observe that the resistance changes linearly with magnetic field, it's a linear magnetoresistance"
   ]
  },
  {
   "cell_type": "code",
   "execution_count": 11,
   "metadata": {
    "collapsed": true
   },
   "outputs": [],
   "source": [
    "## convert series to  dataframe to make it convenient for magnetoresistance value calculation"
   ]
  },
  {
   "cell_type": "code",
   "execution_count": 12,
   "metadata": {
    "collapsed": true
   },
   "outputs": [],
   "source": [
    "df3=pd.DataFrame({'B':df3.index, 'Rxx':df3.values})"
   ]
  },
  {
   "cell_type": "code",
   "execution_count": 13,
   "metadata": {
    "collapsed": false
   },
   "outputs": [
    {
     "data": {
      "text/html": [
       "<div>\n",
       "<style scoped>\n",
       "    .dataframe tbody tr th:only-of-type {\n",
       "        vertical-align: middle;\n",
       "    }\n",
       "\n",
       "    .dataframe tbody tr th {\n",
       "        vertical-align: top;\n",
       "    }\n",
       "\n",
       "    .dataframe thead th {\n",
       "        text-align: right;\n",
       "    }\n",
       "</style>\n",
       "<table border=\"1\" class=\"dataframe\">\n",
       "  <thead>\n",
       "    <tr style=\"text-align: right;\">\n",
       "      <th></th>\n",
       "      <th>B</th>\n",
       "      <th>Rxx</th>\n",
       "    </tr>\n",
       "  </thead>\n",
       "  <tbody>\n",
       "    <tr>\n",
       "      <th>0</th>\n",
       "      <td>-65000</td>\n",
       "      <td>2758.54</td>\n",
       "    </tr>\n",
       "    <tr>\n",
       "      <th>1</th>\n",
       "      <td>-60000</td>\n",
       "      <td>2760.66</td>\n",
       "    </tr>\n",
       "    <tr>\n",
       "      <th>2</th>\n",
       "      <td>-55000</td>\n",
       "      <td>2766.18</td>\n",
       "    </tr>\n",
       "    <tr>\n",
       "      <th>3</th>\n",
       "      <td>-50000</td>\n",
       "      <td>2771.08</td>\n",
       "    </tr>\n",
       "    <tr>\n",
       "      <th>4</th>\n",
       "      <td>-45000</td>\n",
       "      <td>2776.64</td>\n",
       "    </tr>\n",
       "  </tbody>\n",
       "</table>\n",
       "</div>"
      ],
      "text/plain": [
       "       B      Rxx\n",
       "0 -65000  2758.54\n",
       "1 -60000  2760.66\n",
       "2 -55000  2766.18\n",
       "3 -50000  2771.08\n",
       "4 -45000  2776.64"
      ]
     },
     "execution_count": 13,
     "metadata": {},
     "output_type": "execute_result"
    }
   ],
   "source": [
    "df3.head()"
   ]
  },
  {
   "cell_type": "code",
   "execution_count": 14,
   "metadata": {
    "collapsed": true
   },
   "outputs": [],
   "source": [
    "df4=pd.DataFrame({'B':df4.index, 'Rxx':df4.values})"
   ]
  },
  {
   "cell_type": "code",
   "execution_count": 15,
   "metadata": {
    "collapsed": false
   },
   "outputs": [
    {
     "data": {
      "text/html": [
       "<div>\n",
       "<style scoped>\n",
       "    .dataframe tbody tr th:only-of-type {\n",
       "        vertical-align: middle;\n",
       "    }\n",
       "\n",
       "    .dataframe tbody tr th {\n",
       "        vertical-align: top;\n",
       "    }\n",
       "\n",
       "    .dataframe thead th {\n",
       "        text-align: right;\n",
       "    }\n",
       "</style>\n",
       "<table border=\"1\" class=\"dataframe\">\n",
       "  <thead>\n",
       "    <tr style=\"text-align: right;\">\n",
       "      <th></th>\n",
       "      <th>B</th>\n",
       "      <th>Rxx</th>\n",
       "    </tr>\n",
       "  </thead>\n",
       "  <tbody>\n",
       "    <tr>\n",
       "      <th>0</th>\n",
       "      <td>-65000</td>\n",
       "      <td>2756.16</td>\n",
       "    </tr>\n",
       "    <tr>\n",
       "      <th>1</th>\n",
       "      <td>-60000</td>\n",
       "      <td>2760.86</td>\n",
       "    </tr>\n",
       "    <tr>\n",
       "      <th>2</th>\n",
       "      <td>-55000</td>\n",
       "      <td>2765.20</td>\n",
       "    </tr>\n",
       "    <tr>\n",
       "      <th>3</th>\n",
       "      <td>-50000</td>\n",
       "      <td>2770.82</td>\n",
       "    </tr>\n",
       "    <tr>\n",
       "      <th>4</th>\n",
       "      <td>-45000</td>\n",
       "      <td>2776.90</td>\n",
       "    </tr>\n",
       "  </tbody>\n",
       "</table>\n",
       "</div>"
      ],
      "text/plain": [
       "       B      Rxx\n",
       "0 -65000  2756.16\n",
       "1 -60000  2760.86\n",
       "2 -55000  2765.20\n",
       "3 -50000  2770.82\n",
       "4 -45000  2776.90"
      ]
     },
     "execution_count": 15,
     "metadata": {},
     "output_type": "execute_result"
    }
   ],
   "source": [
    "df4.head()"
   ]
  },
  {
   "cell_type": "code",
   "execution_count": 16,
   "metadata": {
    "collapsed": true
   },
   "outputs": [],
   "source": [
    "## we need to calculate the magnetoewsistance\n",
    "## magnetoresistance is the change of resistance due to magnetic field\n",
    "## MR = |R(|B| = Max) - R(B = 0)|/R(B = = 0)\n",
    "\n",
    "RB_dn = (df3.loc[df3['B'] == df3['B'].max(),'Rxx'].values[0]+ df3.loc[df3['B'] == df3['B'].min(),'Rxx'].values[0])/2\n",
    "R0_dn = df3.loc[df3['B'] == 0,'Rxx'].values[0]\n",
    "MR_dn = np.abs(RB_dn - R0_dn)/R0_dn"
   ]
  },
  {
   "cell_type": "code",
   "execution_count": 17,
   "metadata": {
    "collapsed": false
   },
   "outputs": [
    {
     "data": {
      "text/plain": [
       "0.029027023213151839"
      ]
     },
     "execution_count": 17,
     "metadata": {},
     "output_type": "execute_result"
    }
   ],
   "source": [
    "MR_dn ## MR for swipe direction down"
   ]
  },
  {
   "cell_type": "code",
   "execution_count": 18,
   "metadata": {
    "collapsed": true
   },
   "outputs": [],
   "source": [
    "RB_up = (df4.loc[df4['B'] == df4['B'].max(),'Rxx'].values[0]+ df4.loc[df4['B'] == df4['B'].min(),'Rxx'].values[0])/2\n",
    "R0_up = df4.loc[df4['B'] == 0,'Rxx'].values[0]\n",
    "MR_up = np.abs(RB_up - R0_up)/R0_up"
   ]
  },
  {
   "cell_type": "code",
   "execution_count": 19,
   "metadata": {
    "collapsed": false
   },
   "outputs": [
    {
     "data": {
      "text/plain": [
       "0.029959274551526839"
      ]
     },
     "execution_count": 19,
     "metadata": {},
     "output_type": "execute_result"
    }
   ],
   "source": [
    "MR_up #### MR for swipe direction up"
   ]
  },
  {
   "cell_type": "code",
   "execution_count": 20,
   "metadata": {
    "collapsed": true
   },
   "outputs": [],
   "source": [
    "## the magnetoresistance is 3% when the field is 65000 gauss (= 6.5T), different swipe direction has similar result\n",
    "## as revealed by the R - H figure, which is symmetric "
   ]
  }
 ],
 "metadata": {
  "kernelspec": {
   "display_name": "Python 2",
   "language": "python",
   "name": "python2"
  },
  "language_info": {
   "codemirror_mode": {
    "name": "ipython",
    "version": 2
   },
   "file_extension": ".py",
   "mimetype": "text/x-python",
   "name": "python",
   "nbconvert_exporter": "python",
   "pygments_lexer": "ipython2",
   "version": "2.7.11"
  }
 },
 "nbformat": 4,
 "nbformat_minor": 1
}
