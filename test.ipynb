{
 "cells": [
  {
   "cell_type": "code",
   "execution_count": 1,
   "metadata": {
    "collapsed": true
   },
   "outputs": [],
   "source": [
    "import numpy as np\n",
    "import pandas as pd\n",
    "import matplotlib.pyplot as plt\n",
    "%matplotlib inline  "
   ]
  },
  {
   "cell_type": "code",
   "execution_count": 1,
   "metadata": {
    "collapsed": false
   },
   "outputs": [
    {
     "ename": "ImportError",
     "evalue": "No module named google_screener_data_extract",
     "output_type": "error",
     "traceback": [
      "\u001b[1;31m---------------------------------------------------------------------------\u001b[0m",
      "\u001b[1;31mImportError\u001b[0m                               Traceback (most recent call last)",
      "\u001b[1;32m<ipython-input-1-5188fa349e89>\u001b[0m in \u001b[0;36m<module>\u001b[1;34m()\u001b[0m\n\u001b[1;32m----> 1\u001b[1;33m \u001b[1;32mfrom\u001b[0m \u001b[0mgoogle_screener_data_extract\u001b[0m \u001b[1;32mimport\u001b[0m \u001b[0mGoogleStockDataExtract\u001b[0m\u001b[1;33m\u001b[0m\u001b[0m\n\u001b[0m\u001b[0;32m      2\u001b[0m \u001b[1;33m\u001b[0m\u001b[0m\n\u001b[0;32m      3\u001b[0m \u001b[0mhh\u001b[0m \u001b[1;33m=\u001b[0m \u001b[0mGoogleStockDataExtract\u001b[0m\u001b[1;33m(\u001b[0m\u001b[1;33m)\u001b[0m\u001b[1;33m\u001b[0m\u001b[0m\n\u001b[0;32m      4\u001b[0m \u001b[0mhh\u001b[0m\u001b[1;33m.\u001b[0m\u001b[0mtarget_exchange\u001b[0m \u001b[1;33m=\u001b[0m \u001b[1;34m'NASDAQ'\u001b[0m \u001b[1;31m#SGX, NYSE, NYSEMKT\u001b[0m\u001b[1;33m\u001b[0m\u001b[0m\n\u001b[0;32m      5\u001b[0m \u001b[0mhh\u001b[0m\u001b[1;33m.\u001b[0m\u001b[0mretrieve_all_stock_data\u001b[0m\u001b[1;33m(\u001b[0m\u001b[1;33m)\u001b[0m\u001b[1;33m\u001b[0m\u001b[0m\n",
      "\u001b[1;31mImportError\u001b[0m: No module named google_screener_data_extract"
     ]
    }
   ],
   "source": [
    "from google_screener_data_extract import GoogleStockDataExtract\n",
    " \n",
    "hh = GoogleStockDataExtract()\n",
    "hh.target_exchange = 'NASDAQ' #SGX, NYSE, NYSEMKT\n",
    "hh.retrieve_all_stock_data()\n",
    "hh.result_google_ext_df.to_csv(r'c:\\data\\temp.csv', index =False) #save filename\n"
   ]
  }
 ],
 "metadata": {
  "kernelspec": {
   "display_name": "Python 2",
   "language": "python",
   "name": "python2"
  },
  "language_info": {
   "codemirror_mode": {
    "name": "ipython",
    "version": 2
   },
   "file_extension": ".py",
   "mimetype": "text/x-python",
   "name": "python",
   "nbconvert_exporter": "python",
   "pygments_lexer": "ipython2",
   "version": "2.7.11"
  }
 },
 "nbformat": 4,
 "nbformat_minor": 1
}
