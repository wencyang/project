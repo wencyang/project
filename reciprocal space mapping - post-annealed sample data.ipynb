{
 "cells": [
  {
   "cell_type": "code",
   "execution_count": 1,
   "metadata": {
    "collapsed": true
   },
   "outputs": [],
   "source": [
    "import pandas as pd\n",
    "import numpy as np\n",
    "import matplotlib.pyplot as plt\n",
    "from mpl_toolkits.mplot3d import Axes3D\n",
    "from matplotlib import colors, ticker, cm"
   ]
  },
  {
   "cell_type": "code",
   "execution_count": 2,
   "metadata": {
    "collapsed": false
   },
   "outputs": [
    {
     "name": "stdout",
     "output_type": "stream",
     "text": [
      "c:\\users\\yang\\dropbox\n"
     ]
    }
   ],
   "source": [
    "import os\n",
    "cwd = os.getcwd()\n",
    "print cwd"
   ]
  },
  {
   "cell_type": "code",
   "execution_count": 3,
   "metadata": {
    "collapsed": true
   },
   "outputs": [],
   "source": [
    "df = pd.read_table(\"./Bi2Ir2O7 XRD Data Shared/20170810-Bi2Ir2O7_WY80-1_rsm-220peak-NEW.dat\",sep=\" \",header = None)"
   ]
  },
  {
   "cell_type": "code",
   "execution_count": 4,
   "metadata": {
    "collapsed": true
   },
   "outputs": [],
   "source": [
    "df.rename(columns={list(df)[0]:'2theta'}, inplace=True)\n",
    "df.rename(columns={list(df)[1]:'omega'}, inplace=True)\n",
    "df.rename(columns={list(df)[2]:'intensity'}, inplace=True)"
   ]
  },
  {
   "cell_type": "code",
   "execution_count": 5,
   "metadata": {
    "collapsed": false
   },
   "outputs": [
    {
     "data": {
      "text/html": [
       "<div>\n",
       "<style>\n",
       "    .dataframe thead tr:only-child th {\n",
       "        text-align: right;\n",
       "    }\n",
       "\n",
       "    .dataframe thead th {\n",
       "        text-align: left;\n",
       "    }\n",
       "\n",
       "    .dataframe tbody tr th {\n",
       "        vertical-align: top;\n",
       "    }\n",
       "</style>\n",
       "<table border=\"1\" class=\"dataframe\">\n",
       "  <thead>\n",
       "    <tr style=\"text-align: right;\">\n",
       "      <th></th>\n",
       "      <th>2theta</th>\n",
       "      <th>omega</th>\n",
       "      <th>intensity</th>\n",
       "      <th>theta</th>\n",
       "    </tr>\n",
       "  </thead>\n",
       "  <tbody>\n",
       "    <tr>\n",
       "      <th>0</th>\n",
       "      <td>47.070</td>\n",
       "      <td>-3.0</td>\n",
       "      <td>1.0</td>\n",
       "      <td>23.5350</td>\n",
       "    </tr>\n",
       "    <tr>\n",
       "      <th>1</th>\n",
       "      <td>47.075</td>\n",
       "      <td>-3.0</td>\n",
       "      <td>1.0</td>\n",
       "      <td>23.5375</td>\n",
       "    </tr>\n",
       "    <tr>\n",
       "      <th>2</th>\n",
       "      <td>47.081</td>\n",
       "      <td>-3.0</td>\n",
       "      <td>1.0</td>\n",
       "      <td>23.5405</td>\n",
       "    </tr>\n",
       "    <tr>\n",
       "      <th>3</th>\n",
       "      <td>47.086</td>\n",
       "      <td>-3.0</td>\n",
       "      <td>1.0</td>\n",
       "      <td>23.5430</td>\n",
       "    </tr>\n",
       "    <tr>\n",
       "      <th>4</th>\n",
       "      <td>47.091</td>\n",
       "      <td>-3.0</td>\n",
       "      <td>1.0</td>\n",
       "      <td>23.5455</td>\n",
       "    </tr>\n",
       "  </tbody>\n",
       "</table>\n",
       "</div>"
      ],
      "text/plain": [
       "   2theta  omega  intensity    theta\n",
       "0  47.070   -3.0        1.0  23.5350\n",
       "1  47.075   -3.0        1.0  23.5375\n",
       "2  47.081   -3.0        1.0  23.5405\n",
       "3  47.086   -3.0        1.0  23.5430\n",
       "4  47.091   -3.0        1.0  23.5455"
      ]
     },
     "execution_count": 5,
     "metadata": {},
     "output_type": "execute_result"
    }
   ],
   "source": [
    "wavelength = 1.5406\n",
    "df['theta'] = df['2theta']*1.0/2\n",
    "df.head()\n",
    "#df['omega'] = -df['omega']"
   ]
  },
  {
   "cell_type": "code",
   "execution_count": 6,
   "metadata": {
    "collapsed": true
   },
   "outputs": [],
   "source": [
    "##qx = 1/lambda*(cos(omega) - cos(2theta - omega))\n",
    "##qz = 1/lambda*(sin(omega) + cos(2theta - omega))\n",
    "df['qx_1'] = (1.0/wavelength)*(np.cos(np.radians(df['theta'] + df['omega'])) - np.cos(np.radians(df['theta']) - np.radians(df['omega'])))\n",
    "\n",
    "#df['qx_1'] = (1.0/wavelength)*(np.cos(df['omega'].astype(float)) - np.cos(df['2theta'].astype(float) - df['omega'].astype(float)))\n",
    "\n",
    "df['qz_1'] = (1.0/wavelength)*(np.sin(np.radians(df['theta'] + df['omega'])) + np.sin(np.radians(df['theta']) - np.radians(df['omega'])))\n",
    "\n",
    "#df['qz_1'] = (1.0/wavelength)*(np.sin(df['omega'].astype(float)) + np.sin(df['2theta'].astype(float) - df['omega'].astype(float)))"
   ]
  },
  {
   "cell_type": "code",
   "execution_count": 7,
   "metadata": {
    "collapsed": false
   },
   "outputs": [
    {
     "data": {
      "text/html": [
       "<div>\n",
       "<style>\n",
       "    .dataframe thead tr:only-child th {\n",
       "        text-align: right;\n",
       "    }\n",
       "\n",
       "    .dataframe thead th {\n",
       "        text-align: left;\n",
       "    }\n",
       "\n",
       "    .dataframe tbody tr th {\n",
       "        vertical-align: top;\n",
       "    }\n",
       "</style>\n",
       "<table border=\"1\" class=\"dataframe\">\n",
       "  <thead>\n",
       "    <tr style=\"text-align: right;\">\n",
       "      <th></th>\n",
       "      <th>2theta</th>\n",
       "      <th>omega</th>\n",
       "      <th>intensity</th>\n",
       "      <th>theta</th>\n",
       "      <th>qx_1</th>\n",
       "      <th>qz_1</th>\n",
       "      <th>qx_new</th>\n",
       "      <th>qz_new</th>\n",
       "      <th>qx_new_nm</th>\n",
       "      <th>qz_new_nm</th>\n",
       "      <th>intensity_log</th>\n",
       "    </tr>\n",
       "  </thead>\n",
       "  <tbody>\n",
       "    <tr>\n",
       "      <th>0</th>\n",
       "      <td>47.070</td>\n",
       "      <td>-3.0</td>\n",
       "      <td>1.0</td>\n",
       "      <td>23.5350</td>\n",
       "      <td>0.027130</td>\n",
       "      <td>0.517671</td>\n",
       "      <td>0.321029</td>\n",
       "      <td>0.407013</td>\n",
       "      <td>3.210290</td>\n",
       "      <td>4.070131</td>\n",
       "      <td>0.0</td>\n",
       "    </tr>\n",
       "    <tr>\n",
       "      <th>1</th>\n",
       "      <td>47.075</td>\n",
       "      <td>-3.0</td>\n",
       "      <td>1.0</td>\n",
       "      <td>23.5375</td>\n",
       "      <td>0.027133</td>\n",
       "      <td>0.517723</td>\n",
       "      <td>0.321061</td>\n",
       "      <td>0.407054</td>\n",
       "      <td>3.210612</td>\n",
       "      <td>4.070539</td>\n",
       "      <td>0.0</td>\n",
       "    </tr>\n",
       "    <tr>\n",
       "      <th>2</th>\n",
       "      <td>47.081</td>\n",
       "      <td>-3.0</td>\n",
       "      <td>1.0</td>\n",
       "      <td>23.5405</td>\n",
       "      <td>0.027136</td>\n",
       "      <td>0.517785</td>\n",
       "      <td>0.321100</td>\n",
       "      <td>0.407103</td>\n",
       "      <td>3.210998</td>\n",
       "      <td>4.071028</td>\n",
       "      <td>0.0</td>\n",
       "    </tr>\n",
       "    <tr>\n",
       "      <th>3</th>\n",
       "      <td>47.086</td>\n",
       "      <td>-3.0</td>\n",
       "      <td>1.0</td>\n",
       "      <td>23.5430</td>\n",
       "      <td>0.027139</td>\n",
       "      <td>0.517837</td>\n",
       "      <td>0.321132</td>\n",
       "      <td>0.407144</td>\n",
       "      <td>3.211319</td>\n",
       "      <td>4.071436</td>\n",
       "      <td>0.0</td>\n",
       "    </tr>\n",
       "    <tr>\n",
       "      <th>4</th>\n",
       "      <td>47.091</td>\n",
       "      <td>-3.0</td>\n",
       "      <td>1.0</td>\n",
       "      <td>23.5455</td>\n",
       "      <td>0.027141</td>\n",
       "      <td>0.517889</td>\n",
       "      <td>0.321164</td>\n",
       "      <td>0.407184</td>\n",
       "      <td>3.211641</td>\n",
       "      <td>4.071843</td>\n",
       "      <td>0.0</td>\n",
       "    </tr>\n",
       "  </tbody>\n",
       "</table>\n",
       "</div>"
      ],
      "text/plain": [
       "   2theta  omega  intensity    theta      qx_1      qz_1    qx_new    qz_new  \\\n",
       "0  47.070   -3.0        1.0  23.5350  0.027130  0.517671  0.321029  0.407013   \n",
       "1  47.075   -3.0        1.0  23.5375  0.027133  0.517723  0.321061  0.407054   \n",
       "2  47.081   -3.0        1.0  23.5405  0.027136  0.517785  0.321100  0.407103   \n",
       "3  47.086   -3.0        1.0  23.5430  0.027139  0.517837  0.321132  0.407144   \n",
       "4  47.091   -3.0        1.0  23.5455  0.027141  0.517889  0.321164  0.407184   \n",
       "\n",
       "   qx_new_nm  qz_new_nm  intensity_log  \n",
       "0   3.210290   4.070131            0.0  \n",
       "1   3.210612   4.070539            0.0  \n",
       "2   3.210998   4.071028            0.0  \n",
       "3   3.211319   4.071436            0.0  \n",
       "4   3.211641   4.071843            0.0  "
      ]
     },
     "execution_count": 7,
     "metadata": {},
     "output_type": "execute_result"
    }
   ],
   "source": [
    "a = np.cos(np.radians(35.2643897))\n",
    "b = np.sin(np.radians(35.2643897))\n",
    "df['qx_new'] = df['qx_1']*a+df['qz_1']*b\n",
    "df['qz_new'] = -df['qx_1']*b + df['qz_1']*a\n",
    "df['qx_new_nm'] = df['qx_new']*10\n",
    "df['qz_new_nm'] = df['qz_new']*10\n",
    "df['intensity_log'] = np.log(df['intensity'])\n",
    "df.head()"
   ]
  },
  {
   "cell_type": "code",
   "execution_count": null,
   "metadata": {
    "collapsed": false
   },
   "outputs": [
    {
     "name": "stderr",
     "output_type": "stream",
     "text": [
      "C:\\Users\\Yang\\AppData\\Local\\Enthought\\Canopy\\User\\lib\\site-packages\\ipykernel\\__main__.py:50: MatplotlibDeprecationWarning: The set_axis_bgcolor function was deprecated in version 2.0. Use set_facecolor instead.\n"
     ]
    }
   ],
   "source": [
    "x = df['qx_new_nm'].astype(float)\n",
    "y = df['qz_new_nm'].astype(float)\n",
    "z = df['intensity']*1.0/np.max(df['intensity'])\n",
    "z_log = df['intensity_log']*1.0/np.max(df['intensity_log'])\n",
    "\n",
    "from matplotlib import rcParams as rc\n",
    "import matplotlib.font_manager as fm\n",
    "\n",
    "#fm._rebuild()\n",
    "#rc.update({'font.size': 25})\n",
    "#rc['figure.autolayout']=True\n",
    "rc[\"font.family\"] = \"Arial\"\n",
    "rc['savefig.bbox']='standard'\n",
    "rc['axes.linewidth']=1\n",
    "rc['axes.grid']=False\n",
    "rc['grid.linewidth']=0\n",
    "rc[\"savefig.facecolor\"]='white'\n",
    "rc['savefig.edgecolor']='black'\n",
    "rc['figure.edgecolor']='black'    \n",
    "rc[\"figure.facecolor\"]='white'\n",
    "rc[\"axes.facecolor\"]='white'\n",
    "rc['axes.edgecolor']='black'\n",
    "rc['xtick.major.size'] = 5\n",
    "rc['xtick.major.width'] = 1\n",
    "rc['xtick.direction'] = 'in'\n",
    "rc['ytick.major.size'] = 5\n",
    "rc['ytick.major.width'] = 1\n",
    "rc['ytick.direction'] = 'in'\n",
    "#rc['xtick.labelsize']=20 \n",
    "#rc['ytick.labelsize']=20 \n",
    "#######################\n",
    "ax = plt.axes()\n",
    "\n",
    "#######\n",
    "plt.xlim(2.9,3.48)\n",
    "plt.ylim(4.15,4.71)\n",
    "plt.xticks(size = 13)\n",
    "plt.yticks(size = 13)\n",
    "plt.locator_params(axis='y', nbins=3)\n",
    "plt.locator_params(axis='x', nbins=3)\n",
    "ax.set_xlabel(r'q$_x$ (1/nm)', fontsize=15)\n",
    "ax.set_ylabel(r'q$_z$ (1/nm)', fontsize=15)\n",
    "#plt.text(3.22, 4.5, r'YSZ(202)',\n",
    "#        fontsize=25)\n",
    "#plt.text(3.18, 4.35, r'Bi-227(404)',\n",
    "#        fontsize=25)\n",
    "#ax.scatter(x, y, z_log,alpha = 1)\n",
    "\n",
    "############################\n",
    "ax.set_axis_bgcolor(\"white\")\n",
    "\n",
    "cm = plt.cm.get_cmap('jet')\n",
    "cm.set_under(color='w')\n",
    "sc = plt.scatter(x, y, c=z_log, vmin=0.15, vmax=0.45, cmap=cm,linewidths=0)\n",
    "\n",
    "plt.colorbar(sc).ax.tick_params(labelsize=20) \n",
    "plt.axes().set_aspect(0.8)\n",
    "###########################\n",
    "#fig = plt.figure();\n",
    "#ax = Axes3D(fig);\n",
    "#surf = ax.plot_trisurf(x, y, z, cmap=cm.jet, linewidth=0, vmin=0.00045, vmax=0.0005)\n",
    "#fig.colorbar(surf, shrink=0.5, aspect=5)\n",
    "##############\n",
    "\n",
    "plt.savefig('annealed2.jpg',dpi=300)\n",
    "plt.show()\n",
    "plt.close(\"all\")"
   ]
  },
  {
   "cell_type": "code",
   "execution_count": null,
   "metadata": {
    "collapsed": true
   },
   "outputs": [],
   "source": []
  },
  {
   "cell_type": "code",
   "execution_count": null,
   "metadata": {
    "collapsed": true
   },
   "outputs": [],
   "source": []
  }
 ],
 "metadata": {
  "kernelspec": {
   "display_name": "Python 2",
   "language": "python",
   "name": "python2"
  },
  "language_info": {
   "codemirror_mode": {
    "name": "ipython",
    "version": 2
   },
   "file_extension": ".py",
   "mimetype": "text/x-python",
   "name": "python",
   "nbconvert_exporter": "python",
   "pygments_lexer": "ipython2",
   "version": "2.7.11"
  }
 },
 "nbformat": 4,
 "nbformat_minor": 2
}
